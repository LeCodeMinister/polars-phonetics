{
 "cells": [
  {
   "cell_type": "code",
   "execution_count": 1,
   "metadata": {},
   "outputs": [
    {
     "data": {
      "text/html": [
       "<div><style>\n",
       ".dataframe > thead > tr,\n",
       ".dataframe > tbody > tr {\n",
       "  text-align: right;\n",
       "  white-space: pre-wrap;\n",
       "}\n",
       "</style>\n",
       "<small>shape: (5, 2)</small><table border=\"1\" class=\"dataframe\"><thead><tr><th>words</th><th>dmetaphone</th></tr><tr><td>str</td><td>str</td></tr></thead><tbody><tr><td>&quot;this&quot;</td><td>&quot;[0S, TS]&quot;</td></tr><tr><td>&quot;is&quot;</td><td>&quot;[AS, AS]&quot;</td></tr><tr><td>&quot;polars&quot;</td><td>&quot;[PLRS, PLRS]&quot;</td></tr><tr><td>&quot;phonetics&quot;</td><td>&quot;[FNTK, FNTK]&quot;</td></tr><tr><td>&quot;python&quot;</td><td>&quot;[P0N, PTN]&quot;</td></tr></tbody></table></div>"
      ],
      "text/plain": [
       "shape: (5, 2)\n",
       "┌───────────┬──────────────┐\n",
       "│ words     ┆ dmetaphone   │\n",
       "│ ---       ┆ ---          │\n",
       "│ str       ┆ str          │\n",
       "╞═══════════╪══════════════╡\n",
       "│ this      ┆ [0S, TS]     │\n",
       "│ is        ┆ [AS, AS]     │\n",
       "│ polars    ┆ [PLRS, PLRS] │\n",
       "│ phonetics ┆ [FNTK, FNTK] │\n",
       "│ python    ┆ [P0N, PTN]   │\n",
       "└───────────┴──────────────┘"
      ]
     },
     "execution_count": 1,
     "metadata": {},
     "output_type": "execute_result"
    }
   ],
   "source": [
    "import polars as pl\n",
    "from polars_phonetics import dmetaphone\n",
    "\n",
    "\n",
    "df = pl.DataFrame(\n",
    "    {\n",
    "        \"words\": [\"this\", \"is\", \"polars\", \"phonetics\", \"python\"],\n",
    "    }\n",
    ")\n",
    "result = df.with_columns(dmetaphone=dmetaphone(\"words\"))\n",
    "\n",
    "result"
   ]
  }
 ],
 "metadata": {
  "kernelspec": {
   "display_name": "polars_plugins",
   "language": "python",
   "name": "python3"
  },
  "language_info": {
   "codemirror_mode": {
    "name": "ipython",
    "version": 3
   },
   "file_extension": ".py",
   "mimetype": "text/x-python",
   "name": "python",
   "nbconvert_exporter": "python",
   "pygments_lexer": "ipython3",
   "version": "3.12.6"
  }
 },
 "nbformat": 4,
 "nbformat_minor": 2
}
