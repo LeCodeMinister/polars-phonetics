{
 "cells": [
  {
   "cell_type": "code",
   "execution_count": 2,
   "metadata": {},
   "outputs": [
    {
     "data": {
      "text/html": [
       "<div><style>\n",
       ".dataframe > thead > tr,\n",
       ".dataframe > tbody > tr {\n",
       "  text-align: right;\n",
       "  white-space: pre-wrap;\n",
       "}\n",
       "</style>\n",
       "<small>shape: (9, 5)</small><table border=\"1\" class=\"dataframe\"><thead><tr><th>words</th><th>dmetaphone</th><th>soundex</th><th>metaphone</th><th>nysiis</th></tr><tr><td>str</td><td>str</td><td>str</td><td>str</td><td>str</td></tr></thead><tbody><tr><td>&quot;hello&quot;</td><td>&quot;[HL, HL]&quot;</td><td>&quot;H400&quot;</td><td>&quot;HL&quot;</td><td>&quot;HAL&quot;</td></tr><tr><td>&quot;this&quot;</td><td>&quot;[0S, TS]&quot;</td><td>&quot;T200&quot;</td><td>&quot;0S&quot;</td><td>&quot;T&quot;</td></tr><tr><td>&quot;is&quot;</td><td>&quot;[AS, AS]&quot;</td><td>&quot;I200&quot;</td><td>&quot;IS&quot;</td><td>&quot;I&quot;</td></tr><tr><td>&quot;the&quot;</td><td>&quot;[0, T]&quot;</td><td>&quot;T000&quot;</td><td>&quot;0&quot;</td><td>&quot;T&quot;</td></tr><tr><td>&quot;phonetics&quot;</td><td>&quot;[FNTK, FNTK]&quot;</td><td>&quot;P532&quot;</td><td>&quot;FNTK&quot;</td><td>&quot;FANATA&quot;</td></tr><tr><td>&quot;plugin&quot;</td><td>&quot;[PLJN, PLKN]&quot;</td><td>&quot;P425&quot;</td><td>&quot;PLJN&quot;</td><td>&quot;PLAGAN&quot;</td></tr><tr><td>&quot;in&quot;</td><td>&quot;[AN, AN]&quot;</td><td>&quot;I500&quot;</td><td>&quot;IN&quot;</td><td>&quot;IN&quot;</td></tr><tr><td>&quot;polars&quot;</td><td>&quot;[PLRS, PLRS]&quot;</td><td>&quot;P462&quot;</td><td>&quot;PLRS&quot;</td><td>&quot;PALAR&quot;</td></tr><tr><td>null</td><td>null</td><td>null</td><td>null</td><td>null</td></tr></tbody></table></div>"
      ],
      "text/plain": [
       "shape: (9, 5)\n",
       "┌───────────┬──────────────┬─────────┬───────────┬────────┐\n",
       "│ words     ┆ dmetaphone   ┆ soundex ┆ metaphone ┆ nysiis │\n",
       "│ ---       ┆ ---          ┆ ---     ┆ ---       ┆ ---    │\n",
       "│ str       ┆ str          ┆ str     ┆ str       ┆ str    │\n",
       "╞═══════════╪══════════════╪═════════╪═══════════╪════════╡\n",
       "│ hello     ┆ [HL, HL]     ┆ H400    ┆ HL        ┆ HAL    │\n",
       "│ this      ┆ [0S, TS]     ┆ T200    ┆ 0S        ┆ T      │\n",
       "│ is        ┆ [AS, AS]     ┆ I200    ┆ IS        ┆ I      │\n",
       "│ the       ┆ [0, T]       ┆ T000    ┆ 0         ┆ T      │\n",
       "│ phonetics ┆ [FNTK, FNTK] ┆ P532    ┆ FNTK      ┆ FANATA │\n",
       "│ plugin    ┆ [PLJN, PLKN] ┆ P425    ┆ PLJN      ┆ PLAGAN │\n",
       "│ in        ┆ [AN, AN]     ┆ I500    ┆ IN        ┆ IN     │\n",
       "│ polars    ┆ [PLRS, PLRS] ┆ P462    ┆ PLRS      ┆ PALAR  │\n",
       "│ null      ┆ null         ┆ null    ┆ null      ┆ null   │\n",
       "└───────────┴──────────────┴─────────┴───────────┴────────┘"
      ]
     },
     "execution_count": 2,
     "metadata": {},
     "output_type": "execute_result"
    }
   ],
   "source": [
    "import polars as pl\n",
    "from polars_phonetics import dmetaphone, soundex, metaphone, nysiis\n",
    "\n",
    "\n",
    "df = pl.DataFrame(\n",
    "    {\n",
    "        \"words\": [\"hello\", \"this\", \"is\", \"the\", \"phonetics\", \"plugin\", \"in\", \"polars\", None],\n",
    "    }\n",
    ")\n",
    "result = df.with_columns(\n",
    "    dmetaphone=dmetaphone(\"words\"),\n",
    "    soundex=soundex(\"words\"),\n",
    "    metaphone=metaphone(\"words\"),\n",
    "    nysiis=nysiis(\"words\"),\n",
    ")\n",
    "\n",
    "result"
   ]
  }
 ],
 "metadata": {
  "kernelspec": {
   "display_name": "polars_plugins",
   "language": "python",
   "name": "python3"
  },
  "language_info": {
   "codemirror_mode": {
    "name": "ipython",
    "version": 3
   },
   "file_extension": ".py",
   "mimetype": "text/x-python",
   "name": "python",
   "nbconvert_exporter": "python",
   "pygments_lexer": "ipython3",
   "version": "3.12.6"
  }
 },
 "nbformat": 4,
 "nbformat_minor": 2
}
